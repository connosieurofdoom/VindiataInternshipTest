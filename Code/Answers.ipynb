{
 "cells": [
  {
   "cell_type": "code",
   "execution_count": 23,
   "metadata": {},
   "outputs": [
    {
     "name": "stdout",
     "output_type": "stream",
     "text": [
      "Requirement already satisfied: pandas in /home/slayer/anaconda3/lib/python3.7/site-packages (1.0.1)\n",
      "Requirement already satisfied: numpy in /home/slayer/anaconda3/lib/python3.7/site-packages (1.18.1)\n",
      "Requirement already satisfied: python-dateutil>=2.6.1 in /home/slayer/anaconda3/lib/python3.7/site-packages (from pandas) (2.8.1)\n",
      "Requirement already satisfied: pytz>=2017.2 in /home/slayer/anaconda3/lib/python3.7/site-packages (from pandas) (2019.3)\n",
      "Requirement already satisfied: six>=1.5 in /home/slayer/anaconda3/lib/python3.7/site-packages (from python-dateutil>=2.6.1->pandas) (1.14.0)\n"
     ]
    }
   ],
   "source": [
    "!pip install pandas numpy"
   ]
  },
  {
   "cell_type": "code",
   "execution_count": 1,
   "metadata": {},
   "outputs": [
    {
     "name": "stdout",
     "output_type": "stream",
     "text": [
      "Code Directory: /home/slayer/Git/VindiataInternshipTest/Code\n",
      "Data Directory: /home/slayer/Git/VindiataInternshipTest/Data\n",
      "Contents of the Data Directory: ['AircraftType.csv', 'CityPairs.csv', 'Operations.csv']\n",
      "Contents of the Data Directory: ['Untitled.ipynb', 'DataManipulation.ipynb', '.ipynb_checkpoints']\n"
     ]
    }
   ],
   "source": [
    "import os\n",
    "\n",
    "CodeDir = os.getcwd()\n",
    "BaseDir = os.path.split(CodeDir)[0]\n",
    "DataDir = os.path.join(os.path.split(CodeDir)[0], 'Data')\n",
    "\n",
    "print(\"Code Directory:\",CodeDir)\n",
    "print(\"Data Directory:\",DataDir)\n",
    "\n",
    "print(\"Contents of the Data Directory:\",os.listdir(DataDir))\n",
    "print(\"Contents of the Data Directory:\",os.listdir(CodeDir))"
   ]
  },
  {
   "cell_type": "code",
   "execution_count": 2,
   "metadata": {},
   "outputs": [],
   "source": [
    "import warnings\n",
    "warnings.filterwarnings('ignore')"
   ]
  },
  {
   "cell_type": "code",
   "execution_count": 3,
   "metadata": {},
   "outputs": [],
   "source": [
    "import pandas as pd\n",
    "import re\n",
    "import numpy as np"
   ]
  },
  {
   "cell_type": "code",
   "execution_count": 4,
   "metadata": {},
   "outputs": [],
   "source": [
    "def csv_files(s):\n",
    "    return '.csv' in s\n",
    "\n",
    "csv_files = list(filter(csv_files,os.listdir(DataDir)))"
   ]
  },
  {
   "cell_type": "code",
   "execution_count": 5,
   "metadata": {},
   "outputs": [
    {
     "data": {
      "text/plain": [
       "['AircraftType.csv', 'CityPairs.csv', 'Operations.csv']"
      ]
     },
     "execution_count": 5,
     "metadata": {},
     "output_type": "execute_result"
    }
   ],
   "source": [
    "csv_files"
   ]
  },
  {
   "cell_type": "code",
   "execution_count": 6,
   "metadata": {},
   "outputs": [],
   "source": [
    "AircraftType = pd.read_csv(os.path.join(DataDir,csv_files[0]))\n",
    "CityPairs = pd.read_csv(os.path.join(DataDir,csv_files[1]))\n",
    "Operations = pd.read_csv(os.path.join(DataDir,csv_files[2]))"
   ]
  },
  {
   "cell_type": "code",
   "execution_count": 7,
   "metadata": {},
   "outputs": [],
   "source": [
    "column_list = list(Operations)\n",
    "Operations[\"SumOfHours\"] = Operations[column_list[2:]].sum(axis = 1)"
   ]
  },
  {
   "cell_type": "markdown",
   "metadata": {},
   "source": [
    "## What is the total cost by aircraft type for the year?"
   ]
  },
  {
   "cell_type": "code",
   "execution_count": 8,
   "metadata": {},
   "outputs": [
    {
     "data": {
      "text/html": [
       "<div>\n",
       "<style scoped>\n",
       "    .dataframe tbody tr th:only-of-type {\n",
       "        vertical-align: middle;\n",
       "    }\n",
       "\n",
       "    .dataframe tbody tr th {\n",
       "        vertical-align: top;\n",
       "    }\n",
       "\n",
       "    .dataframe thead th {\n",
       "        text-align: right;\n",
       "    }\n",
       "</style>\n",
       "<table border=\"1\" class=\"dataframe\">\n",
       "  <thead>\n",
       "    <tr style=\"text-align: right;\">\n",
       "      <th></th>\n",
       "      <th>Aircraft Name</th>\n",
       "      <th>Aircraft Type</th>\n",
       "      <th>Jan-14</th>\n",
       "      <th>Feb-14</th>\n",
       "      <th>Mar-14</th>\n",
       "      <th>Apr-14</th>\n",
       "      <th>May-14</th>\n",
       "      <th>Jun-14</th>\n",
       "      <th>Jul-14</th>\n",
       "      <th>Aug-14</th>\n",
       "      <th>Sep-14</th>\n",
       "      <th>Oct-14</th>\n",
       "      <th>Nov-14</th>\n",
       "      <th>Dec-14</th>\n",
       "      <th>SumOfHours</th>\n",
       "      <th>Cost</th>\n",
       "      <th>TotalCost</th>\n",
       "    </tr>\n",
       "  </thead>\n",
       "  <tbody>\n",
       "    <tr>\n",
       "      <th>0</th>\n",
       "      <td>A</td>\n",
       "      <td>A320</td>\n",
       "      <td>250</td>\n",
       "      <td>251</td>\n",
       "      <td>248</td>\n",
       "      <td>253</td>\n",
       "      <td>243</td>\n",
       "      <td>245</td>\n",
       "      <td>248</td>\n",
       "      <td>246</td>\n",
       "      <td>256</td>\n",
       "      <td>256</td>\n",
       "      <td>251</td>\n",
       "      <td>252</td>\n",
       "      <td>2999</td>\n",
       "      <td>5000.0</td>\n",
       "      <td>14995000.0</td>\n",
       "    </tr>\n",
       "    <tr>\n",
       "      <th>1</th>\n",
       "      <td>B</td>\n",
       "      <td>A330</td>\n",
       "      <td>300</td>\n",
       "      <td>301</td>\n",
       "      <td>298</td>\n",
       "      <td>303</td>\n",
       "      <td>293</td>\n",
       "      <td>295</td>\n",
       "      <td>298</td>\n",
       "      <td>296</td>\n",
       "      <td>306</td>\n",
       "      <td>306</td>\n",
       "      <td>301</td>\n",
       "      <td>302</td>\n",
       "      <td>3599</td>\n",
       "      <td>7500.0</td>\n",
       "      <td>26992500.0</td>\n",
       "    </tr>\n",
       "    <tr>\n",
       "      <th>2</th>\n",
       "      <td>C</td>\n",
       "      <td>B737</td>\n",
       "      <td>245</td>\n",
       "      <td>246</td>\n",
       "      <td>243</td>\n",
       "      <td>248</td>\n",
       "      <td>238</td>\n",
       "      <td>240</td>\n",
       "      <td>243</td>\n",
       "      <td>241</td>\n",
       "      <td>251</td>\n",
       "      <td>251</td>\n",
       "      <td>246</td>\n",
       "      <td>247</td>\n",
       "      <td>2939</td>\n",
       "      <td>5100.0</td>\n",
       "      <td>14988900.0</td>\n",
       "    </tr>\n",
       "    <tr>\n",
       "      <th>3</th>\n",
       "      <td>D</td>\n",
       "      <td>B747</td>\n",
       "      <td>310</td>\n",
       "      <td>311</td>\n",
       "      <td>308</td>\n",
       "      <td>313</td>\n",
       "      <td>303</td>\n",
       "      <td>305</td>\n",
       "      <td>308</td>\n",
       "      <td>306</td>\n",
       "      <td>316</td>\n",
       "      <td>316</td>\n",
       "      <td>311</td>\n",
       "      <td>312</td>\n",
       "      <td>3719</td>\n",
       "      <td>12000.0</td>\n",
       "      <td>44628000.0</td>\n",
       "    </tr>\n",
       "    <tr>\n",
       "      <th>4</th>\n",
       "      <td>E</td>\n",
       "      <td>Q400</td>\n",
       "      <td>200</td>\n",
       "      <td>201</td>\n",
       "      <td>198</td>\n",
       "      <td>203</td>\n",
       "      <td>193</td>\n",
       "      <td>195</td>\n",
       "      <td>198</td>\n",
       "      <td>196</td>\n",
       "      <td>206</td>\n",
       "      <td>206</td>\n",
       "      <td>201</td>\n",
       "      <td>202</td>\n",
       "      <td>2399</td>\n",
       "      <td>3500.0</td>\n",
       "      <td>8396500.0</td>\n",
       "    </tr>\n",
       "  </tbody>\n",
       "</table>\n",
       "</div>"
      ],
      "text/plain": [
       "  Aircraft Name Aircraft Type  Jan-14  Feb-14  Mar-14  Apr-14  May-14  Jun-14  \\\n",
       "0            A           A320     250     251     248     253     243     245   \n",
       "1             B          A330     300     301     298     303     293     295   \n",
       "2             C          B737     245     246     243     248     238     240   \n",
       "3             D          B747     310     311     308     313     303     305   \n",
       "4             E          Q400     200     201     198     203     193     195   \n",
       "\n",
       "   Jul-14  Aug-14  Sep-14  Oct-14  Nov-14  Dec-14  SumOfHours     Cost  \\\n",
       "0     248     246     256     256     251     252        2999   5000.0   \n",
       "1     298     296     306     306     301     302        3599   7500.0   \n",
       "2     243     241     251     251     246     247        2939   5100.0   \n",
       "3     308     306     316     316     311     312        3719  12000.0   \n",
       "4     198     196     206     206     201     202        2399   3500.0   \n",
       "\n",
       "    TotalCost  \n",
       "0  14995000.0  \n",
       "1  26992500.0  \n",
       "2  14988900.0  \n",
       "3  44628000.0  \n",
       "4   8396500.0  "
      ]
     },
     "execution_count": 8,
     "metadata": {},
     "output_type": "execute_result"
    }
   ],
   "source": [
    "Operations['Cost'] = np.nan\n",
    "for i in range(len(Operations.index)):\n",
    "    Operations['Cost'][i] = int(AircraftType.loc[AircraftType['Aircraft Type'] == Operations['Aircraft Type'][i].strip(), 'Costs per flight hour'].values[0].strip().replace(',',''))\n",
    "    \n",
    "Operations['TotalCost'] = Operations['Cost'] * Operations['SumOfHours']\n",
    "Operations.head()"
   ]
  },
  {
   "cell_type": "code",
   "execution_count": 9,
   "metadata": {},
   "outputs": [
    {
     "name": "stdout",
     "output_type": "stream",
     "text": [
      "Total Cost Of Operations: 490225600.0\n"
     ]
    }
   ],
   "source": [
    "print(\"Total Cost Of Operations:\",Operations['TotalCost'].sum(axis = 0))"
   ]
  },
  {
   "cell_type": "markdown",
   "metadata": {},
   "source": [
    "## Which aircraft type has the lowest cost per seat per km flown? "
   ]
  },
  {
   "cell_type": "code",
   "execution_count": 10,
   "metadata": {},
   "outputs": [],
   "source": [
    "AircraftType['Costs per flight hour'] = pd.to_numeric(AircraftType['Costs per flight hour'].transform(lambda x:str(x).strip().replace(',','')))\n",
    "AircraftType['lcps'] = AircraftType['Costs per flight hour']/(AircraftType['Number of Seats']*AircraftType['Costs per flight hour'])"
   ]
  },
  {
   "cell_type": "code",
   "execution_count": 11,
   "metadata": {},
   "outputs": [
    {
     "name": "stdout",
     "output_type": "stream",
     "text": [
      "Lowest cost per seat per km flown: 0.002857142857142857\n",
      "Aircraft Type : B747\n"
     ]
    }
   ],
   "source": [
    "m = min(AircraftType['lcps'])\n",
    "\n",
    "print(\"Lowest cost per seat per km flown:\", m)\n",
    "print(\"Aircraft Type :\",AircraftType.loc[AircraftType['lcps'] == m, 'Aircraft Type'].values[0])"
   ]
  },
  {
   "cell_type": "markdown",
   "metadata": {},
   "source": [
    "## Airline B is a startup airline and is considering flying on the city pairs as shown in tab \"City Pairs\". They would like to know:\n",
    "### Which aircraft types are best suited for their operation?"
   ]
  },
  {
   "cell_type": "code",
   "execution_count": 19,
   "metadata": {},
   "outputs": [],
   "source": [
    "CityPairs['Distance (km)'] = pd.to_numeric(CityPairs['Distance (km)'].transform(lambda x: str(x).strip().replace(',','')))\n",
    "AircraftType['Range (Km)'] = pd.to_numeric(AircraftType['Range (Km)'].transform(lambda x: str(x).strip().replace(',','')))"
   ]
  },
  {
   "cell_type": "code",
   "execution_count": 21,
   "metadata": {},
   "outputs": [],
   "source": [
    "from math import ceil\n",
    "def minCost(dist, n):\n",
    "    t = AircraftType.loc[AircraftType['Range (Km)'] >= dist]\n",
    "    t['cost per trip'] = (dist/t['Ave. Speed (km/h)'])*t['Costs per flight hour']\n",
    "    t['no trips'] = n/t['Number of Seats'].apply(np.ceil).astype(int)\n",
    "    t['Total Cost'] = t['cost per trip']*t['no trips']\n",
    "    #print(t)\n",
    "    m = min(t['Total Cost'])\n",
    "    r = t.loc[t['Total Cost'] == m , 'Aircraft Type']\n",
    "    del m,t\n",
    "    return r.values[0]\n",
    "    "
   ]
  },
  {
   "cell_type": "code",
   "execution_count": 22,
   "metadata": {},
   "outputs": [
    {
     "data": {
      "text/html": [
       "<div>\n",
       "<style scoped>\n",
       "    .dataframe tbody tr th:only-of-type {\n",
       "        vertical-align: middle;\n",
       "    }\n",
       "\n",
       "    .dataframe tbody tr th {\n",
       "        vertical-align: top;\n",
       "    }\n",
       "\n",
       "    .dataframe thead th {\n",
       "        text-align: right;\n",
       "    }\n",
       "</style>\n",
       "<table border=\"1\" class=\"dataframe\">\n",
       "  <thead>\n",
       "    <tr style=\"text-align: right;\">\n",
       "      <th></th>\n",
       "      <th>Origin City</th>\n",
       "      <th>Desitnation City</th>\n",
       "      <th>Pass. Demand \\n(per day)</th>\n",
       "      <th>Distance (km)</th>\n",
       "      <th>AircraftName</th>\n",
       "    </tr>\n",
       "  </thead>\n",
       "  <tbody>\n",
       "    <tr>\n",
       "      <th>0</th>\n",
       "      <td>AA</td>\n",
       "      <td>BB</td>\n",
       "      <td>420</td>\n",
       "      <td>3000</td>\n",
       "      <td>A330</td>\n",
       "    </tr>\n",
       "    <tr>\n",
       "      <th>1</th>\n",
       "      <td>BB</td>\n",
       "      <td>CC</td>\n",
       "      <td>450</td>\n",
       "      <td>6500</td>\n",
       "      <td>A330</td>\n",
       "    </tr>\n",
       "    <tr>\n",
       "      <th>2</th>\n",
       "      <td>CC</td>\n",
       "      <td>AA</td>\n",
       "      <td>300</td>\n",
       "      <td>400</td>\n",
       "      <td>A330</td>\n",
       "    </tr>\n",
       "    <tr>\n",
       "      <th>3</th>\n",
       "      <td>AA</td>\n",
       "      <td>DD</td>\n",
       "      <td>300</td>\n",
       "      <td>1000</td>\n",
       "      <td>A330</td>\n",
       "    </tr>\n",
       "  </tbody>\n",
       "</table>\n",
       "</div>"
      ],
      "text/plain": [
       "  Origin City Desitnation City  Pass. Demand \\n(per day)  Distance (km)  \\\n",
       "0          AA               BB                       420           3000   \n",
       "1          BB               CC                       450           6500   \n",
       "2          CC               AA                       300            400   \n",
       "3          AA               DD                       300           1000   \n",
       "\n",
       "  AircraftName  \n",
       "0         A330  \n",
       "1         A330  \n",
       "2         A330  \n",
       "3         A330  "
      ]
     },
     "execution_count": 22,
     "metadata": {},
     "output_type": "execute_result"
    }
   ],
   "source": [
    "CityPairs['AircraftName'] = np.vectorize(minCost)(CityPairs['Distance (km)'], CityPairs['Pass. Demand \\n(per day)'])\n",
    "CityPairs"
   ]
  },
  {
   "cell_type": "code",
   "execution_count": null,
   "metadata": {},
   "outputs": [],
   "source": []
  }
 ],
 "metadata": {
  "kernelspec": {
   "display_name": "Python 3",
   "language": "python",
   "name": "python3"
  },
  "language_info": {
   "codemirror_mode": {
    "name": "ipython",
    "version": 3
   },
   "file_extension": ".py",
   "mimetype": "text/x-python",
   "name": "python",
   "nbconvert_exporter": "python",
   "pygments_lexer": "ipython3",
   "version": "3.7.6"
  }
 },
 "nbformat": 4,
 "nbformat_minor": 4
}
